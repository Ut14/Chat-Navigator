{
  "nbformat": 4,
  "nbformat_minor": 0,
  "metadata": {
    "colab": {
      "provenance": [],
      "authorship_tag": "ABX9TyMQhHmjodWv3CBo+rWej0er",
      "include_colab_link": true
    },
    "kernelspec": {
      "name": "python3",
      "display_name": "Python 3"
    },
    "language_info": {
      "name": "python"
    }
  },
  "cells": [
    {
      "cell_type": "markdown",
      "metadata": {
        "id": "view-in-github",
        "colab_type": "text"
      },
      "source": [
        "<a href=\"https://colab.research.google.com/github/Ut14/WebScrape-Chatbot/blob/main/Chatbot.ipynb\" target=\"_parent\"><img src=\"https://colab.research.google.com/assets/colab-badge.svg\" alt=\"Open In Colab\"/></a>"
      ]
    },
    {
      "cell_type": "code",
      "execution_count": null,
      "metadata": {
        "id": "ywMa2ayKPbqL"
      },
      "outputs": [],
      "source": [
        "# !pip install langchain\n",
        "# !pip install huggingface_hub\n",
        "# !pip install sentence_transformers\n",
        "# !pip install selenium beautifulsoup4\n",
        "# !apt-get update\n",
        "# !apt install chromium-chromedriver\n",
        "# !apt-get install -y chromium-browser\n",
        "# !pip install langchain-community langchain-core"
      ]
    },
    {
      "cell_type": "code",
      "source": [
        "from selenium import webdriver\n",
        "from selenium.webdriver.chrome.service import Service\n",
        "from selenium.webdriver.chrome.options import Options\n",
        "from bs4 import BeautifulSoup\n",
        "import re\n",
        "from webdriver_manager.chrome import ChromeDriverManager"
      ],
      "metadata": {
        "id": "Dj9h3_H8Qrfu"
      },
      "execution_count": null,
      "outputs": []
    },
    {
      "cell_type": "code",
      "source": [
        "!ls /usr/lib/chromium-browser/chromedriver"
      ],
      "metadata": {
        "colab": {
          "base_uri": "https://localhost:8080/"
        },
        "id": "Q6DyXUQIUbyI",
        "outputId": "e2039671-c6f2-4528-e67b-55754775e15d"
      },
      "execution_count": null,
      "outputs": [
        {
          "output_type": "stream",
          "name": "stdout",
          "text": [
            "/usr/lib/chromium-browser/chromedriver\n"
          ]
        }
      ]
    },
    {
      "cell_type": "code",
      "source": [
        "options=webdriver.ChromeOptions()\n",
        "options.add_argument('--headless')\n",
        "options.add_argument('--no-sandbox')\n",
        "options.add_argument('--disable-dev-shm-usage')\n",
        "options.add_argument('--disable-gpu')\n",
        "driver = webdriver.Chrome(options=options)"
      ],
      "metadata": {
        "id": "HAqGz50YU20X"
      },
      "execution_count": null,
      "outputs": []
    },
    {
      "cell_type": "markdown",
      "source": [
        "# Get HUGGINGFACEHUB_API_KEY"
      ],
      "metadata": {
        "id": "w2WtvD6PQV02"
      }
    },
    {
      "cell_type": "code",
      "source": [
        "import os\n",
        "from getpass import getpass\n",
        "HuggingFaceHub_API_KEY = getpass()\n",
        "os.environ[\"HUGGINGFACEHUB_API_TOKEN\"] = HuggingFaceHub_API_KEY"
      ],
      "metadata": {
        "colab": {
          "base_uri": "https://localhost:8080/"
        },
        "id": "3fOVvPMxPv5k",
        "outputId": "8998415d-0f4b-42b3-c5d3-f0fe65a762bc"
      },
      "execution_count": null,
      "outputs": [
        {
          "name": "stdout",
          "output_type": "stream",
          "text": [
            "··········\n"
          ]
        }
      ]
    },
    {
      "cell_type": "code",
      "source": [
        "url = 'https://botpenguin.com'\n",
        "driver.get(url)\n",
        "\n",
        "# Get the page source\n",
        "page_source = driver.page_source"
      ],
      "metadata": {
        "id": "w8FQVbbOQM7L"
      },
      "execution_count": null,
      "outputs": []
    },
    {
      "cell_type": "code",
      "source": [
        "# Use BeautifulSoup to parse the page source\n",
        "soup = BeautifulSoup(page_source, 'html.parser')\n",
        "\n",
        "# Extract all text content\n",
        "text_content = soup.get_text(separator='\\n')\n",
        "\n",
        "# Clean up the text content\n",
        "cleaned_text = re.sub(r'\\n\\s*\\n', '\\n\\n', text_content)  # Remove excessive new lines\n",
        "cleaned_text = re.sub(r'\\s+', ' ', cleaned_text)  # Replace multiple spaces with a single space\n",
        "\n",
        "# Print the cleaned text content\n",
        "print(cleaned_text)"
      ],
      "metadata": {
        "colab": {
          "base_uri": "https://localhost:8080/"
        },
        "id": "PFWpT-SrY0i4",
        "outputId": "be4d0d8c-4a74-4c31-c630-50daf5103a47"
      },
      "execution_count": null,
      "outputs": [
        {
          "output_type": "stream",
          "name": "stdout",
          "text": [
            " Free Chatbot maker | Chatbot for Website, WhatsApp | BotPenguin Why BotPenguin Product Solutions Pricing Partners Resources Login Get Started FREE Engage, Converse and Convert your visitors using AI Chatbot Agent Generate 10x more leads, solve up to 80% customer queries, engage 70% more visitors to earn 90% more revenue by automating business communication. Get Started FREE *FREE Forever plan. No Credit Card Required. BotPenguin is the best AI Chatbot maker platform. Create a Chatbot for WhatsApp, Website, Facebook Messenger, Telegram, WordPress & Shopify with BotPenguin - 100% FREE! Our chatbot creator helps with lead generation, appointment booking, customer support, marketing automation, WhatsApp & Facebook Automation for businesses. AI-powered No-Code chatbot maker with live chat plugin & ChatGPT integration. Mobile app Download iOS App Download Android App Mobile app Download iOS App Download Android App Platforms Microsoft Teams New Instagram New Whatsapp Telegram Facebook Websites Partners Whitelabel Partner Whatsapp Whitelabel Partner Implementation Partner Affiliate Partner Get Started Chatbot For Ecommerce Chatbot For Real Estate Chatbot For Education Chatbot For Travel All Templates Free Tools WhatsApp Link Generator WhatsApp QR Code Generator OpenAI API Pricing Calculator Chatbot ROI Calculator All Free Tools Integrations ChatGPT GoHighLevel Bitrix 24 Zapier All Integrations Resources Blogs Glossary Help Center Write for us Contact Us What’s New Product Updates Status Page Comparisons BotPenguin vs Manychat BotPenguin vs Tidio BotPenguin vs Tawk.to BotPenguin vs Wati BotPenguin vs Landbot All Comparisons Alternatives What you get Lead Generation Bot Support Bot Assistant Bot Platforms Microsoft Teams New Instagram New Whatsapp Telegram Facebook Websites Get Started Integrations Comparisons Partners Free Tools Resources What you get Terms & Conditions Privacy Policy Security GDPR Refund Policy Terms & Conditions Privacy Policy Security GDPR Refund Policy Copyright © 2018 - 2024 Relinns Technologies Pvt. Ltd. All RightsReserved. 👋 I'm here to help you. \n"
          ]
        }
      ]
    },
    {
      "cell_type": "code",
      "source": [
        "driver.quit()"
      ],
      "metadata": {
        "id": "dVEbascQY3yI"
      },
      "execution_count": null,
      "outputs": []
    },
    {
      "cell_type": "code",
      "source": [
        "with open('cleaned_text.txt', 'w') as f:\n",
        "    f.write(cleaned_text)"
      ],
      "metadata": {
        "id": "vISqCCrtara4"
      },
      "execution_count": null,
      "outputs": []
    },
    {
      "cell_type": "code",
      "source": [
        "from langchain.document_loaders import TextLoader\n",
        "loader = TextLoader('./cleaned_text.txt')\n",
        "documents = loader.load()"
      ],
      "metadata": {
        "id": "enpuDjcUcDZv"
      },
      "execution_count": null,
      "outputs": []
    },
    {
      "cell_type": "code",
      "source": [
        "document_text = documents[0].page_content  # Access the text content\n",
        "print(len(document_text))"
      ],
      "metadata": {
        "colab": {
          "base_uri": "https://localhost:8080/"
        },
        "id": "LgrzFdWyh2sk",
        "outputId": "bbd7bc8b-e2a2-4937-e80c-3177eff27c10"
      },
      "execution_count": null,
      "outputs": [
        {
          "output_type": "stream",
          "name": "stdout",
          "text": [
            "2100\n"
          ]
        }
      ]
    },
    {
      "cell_type": "code",
      "source": [
        "#Text Splitter\n",
        "# from langchain.text_splitter import CharacterTextSplitter\n",
        "# text_splitter = CharacterTextSplitter(chunk_size=100, chunk_overlap=0)\n",
        "# texts = text_splitter.split_documents(documents)"
      ],
      "metadata": {
        "id": "PXK4zzKDcs23"
      },
      "execution_count": null,
      "outputs": []
    },
    {
      "cell_type": "code",
      "source": [
        "# print(f\"Number of chunks: {len(texts)}\")\n",
        "# for i, text in enumerate(texts):\n",
        "#     print(f\"Chunk {i + 1} length: {len(text.page_content)}\")"
      ],
      "metadata": {
        "colab": {
          "base_uri": "https://localhost:8080/"
        },
        "id": "L18B-_M9c7cK",
        "outputId": "99631878-4532-444d-b88c-191738fb2559"
      },
      "execution_count": null,
      "outputs": [
        {
          "output_type": "stream",
          "name": "stdout",
          "text": [
            "Number of chunks: 1\n",
            "Chunk 1 length: 2098\n"
          ]
        }
      ]
    },
    {
      "cell_type": "code",
      "source": [
        "from langchain.docstore.document import Document"
      ],
      "metadata": {
        "id": "OqDsFAoUkW-d"
      },
      "execution_count": null,
      "outputs": []
    },
    {
      "cell_type": "code",
      "source": [
        "# Function to split text into chunks\n",
        "def split_text(text, chunk_size):\n",
        "    chunks = [text[i:i + chunk_size] for i in range(0, len(text), chunk_size)]\n",
        "    return [Document(page_content=chunk) for chunk in chunks] # Create Document objects for each chunk\n",
        "\n",
        "# Split the text\n",
        "texts= split_text(document_text, 1000)\n",
        "len(texts)"
      ],
      "metadata": {
        "colab": {
          "base_uri": "https://localhost:8080/"
        },
        "id": "jkDurqyxjVv6",
        "outputId": "93c259cc-4e0f-42ea-90e7-b24b31e2c10a"
      },
      "execution_count": null,
      "outputs": [
        {
          "output_type": "execute_result",
          "data": {
            "text/plain": [
              "3"
            ]
          },
          "metadata": {},
          "execution_count": 187
        }
      ]
    },
    {
      "cell_type": "code",
      "source": [
        "from langchain.embeddings import HuggingFaceEmbeddings\n",
        "embeddings = HuggingFaceEmbeddings()"
      ],
      "metadata": {
        "id": "EKiiU9Nbeq0k"
      },
      "execution_count": null,
      "outputs": []
    },
    {
      "cell_type": "code",
      "source": [
        "# !pip install faiss-cpu"
      ],
      "metadata": {
        "id": "3ewvgyr9evuu"
      },
      "execution_count": null,
      "outputs": []
    },
    {
      "cell_type": "code",
      "source": [
        "from langchain.vectorstores import FAISS\n",
        "db = FAISS.from_documents(texts, embeddings)"
      ],
      "metadata": {
        "id": "vQbXEpaafVLm"
      },
      "execution_count": null,
      "outputs": []
    },
    {
      "cell_type": "code",
      "source": [
        "query=\"Why is BotPenguin good?\"\n",
        "docs = db.similarity_search(query)"
      ],
      "metadata": {
        "id": "l1xk1fVVfelV"
      },
      "execution_count": null,
      "outputs": []
    },
    {
      "cell_type": "code",
      "source": [
        "print((str(docs[0].page_content)))"
      ],
      "metadata": {
        "colab": {
          "base_uri": "https://localhost:8080/"
        },
        "id": "WpJ4Pmh4f_1W",
        "outputId": "b3b9751c-2053-40de-f871-5eb671bc07a5"
      },
      "execution_count": null,
      "outputs": [
        {
          "output_type": "stream",
          "name": "stdout",
          "text": [
            " Free Chatbot maker | Chatbot for Website, WhatsApp | BotPenguin Why BotPenguin Product Solutions Pricing Partners Resources Login Get Started FREE Engage, Converse and Convert your visitors using AI Chatbot Agent Generate 10x more leads, solve up to 80% customer queries, engage 70% more visitors to earn 90% more revenue by automating business communication. Get Started FREE *FREE Forever plan. No Credit Card Required. BotPenguin is the best AI Chatbot maker platform. Create a Chatbot for WhatsApp, Website, Facebook Messenger, Telegram, WordPress & Shopify with BotPenguin - 100% FREE! Our chatbot creator helps with lead generation, appointment booking, customer support, marketing automation, WhatsApp & Facebook Automation for businesses. AI-powered No-Code chatbot maker with live chat plugin & ChatGPT integration. Mobile app Download iOS App Download Android App Mobile app Download iOS App Download Android App Platforms Microsoft Teams New Instagram New Whatsapp Telegram Facebook Websi\n"
          ]
        }
      ]
    },
    {
      "cell_type": "markdown",
      "source": [
        "# Create QnA Chain"
      ],
      "metadata": {
        "id": "EU6ASaHWlNd0"
      }
    },
    {
      "cell_type": "code",
      "source": [
        "from langchain.chains.question_answering import load_qa_chain\n",
        "from langchain import HuggingFaceHub"
      ],
      "metadata": {
        "id": "T489DI5ugMcO"
      },
      "execution_count": null,
      "outputs": []
    },
    {
      "cell_type": "code",
      "source": [
        "llm=HuggingFaceHub(repo_id=\"google/flan-t5-large\", model_kwargs={\"temperature\":0.1, \"max_length\":512})"
      ],
      "metadata": {
        "id": "Kme4RVpqlSK7"
      },
      "execution_count": null,
      "outputs": []
    },
    {
      "cell_type": "code",
      "source": [
        "chain=load_qa_chain(llm, chain_type=\"stuff\")"
      ],
      "metadata": {
        "id": "kHzOD57ilYfT"
      },
      "execution_count": null,
      "outputs": []
    },
    {
      "cell_type": "code",
      "source": [
        "print(\"Bot: Hello I am Bot. How can I help you?(type exit to quit)\")\n",
        "while True:\n",
        "  query=input(\"User: \")\n",
        "  if query.lower()==\"exit\":\n",
        "    print(\"Bot: Bye Bye\")\n",
        "    break\n",
        "  answer = chain.run(input_documents=docs, question=query)\n",
        "  answer=re.sub(r'\\n+', '\\n', answer)\n",
        "  print(\"Bot: \", answer)"
      ],
      "metadata": {
        "colab": {
          "base_uri": "https://localhost:8080/"
        },
        "id": "mZcM1wBbleLU",
        "outputId": "6b90baf2-9115-4eca-b987-99cf0ada62e2"
      },
      "execution_count": null,
      "outputs": [
        {
          "output_type": "stream",
          "name": "stdout",
          "text": [
            "Bot: Hello I am Bot. How can I help you?(type exit to quit)\n",
            "User: exit\n",
            "Bot: Bye Bye\n"
          ]
        }
      ]
    },
    {
      "cell_type": "code",
      "source": [],
      "metadata": {
        "id": "uMjRZYQ7lmjM"
      },
      "execution_count": null,
      "outputs": []
    }
  ]
}